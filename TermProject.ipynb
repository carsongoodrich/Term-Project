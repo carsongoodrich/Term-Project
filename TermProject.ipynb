{
 "cells": [
  {
   "cell_type": "markdown",
   "id": "107ba37a-36b9-41b4-920c-271ac90ddd04",
   "metadata": {
    "tags": []
   },
   "source": [
    "## Remote Sensing Term Project "
   ]
  },
  {
   "cell_type": "raw",
   "id": "143eeaa4-f8fd-4e0f-9990-a0d7f15d3c95",
   "metadata": {},
   "source": [
    "pip install -U geemap"
   ]
  },
  {
   "cell_type": "code",
   "execution_count": 13,
   "id": "171a41fd-d76a-4310-8160-940f903ef0b7",
   "metadata": {},
   "outputs": [
    {
     "data": {
      "application/vnd.jupyter.widget-view+json": {
       "model_id": "1c0398c613b64f9aa8510c2d1cad59ee",
       "version_major": 2,
       "version_minor": 0
      },
      "text/plain": [
       "Map(center=[20, 0], controls=(WidgetControl(options=['position', 'transparent_bg'], widget=HBox(children=(Togg…"
      ]
     },
     "metadata": {},
     "output_type": "display_data"
    }
   ],
   "source": [
    "# Import the necessary libraries\n",
    "import ee\n",
    "import geemap\n",
    "\n",
    "# Initialize the Earth Engine API\n",
    "ee.Initialize()\n",
    "\n",
    "# Define the image collection\n",
    "Apr =ee.Image('projects/ee-cgoodrich/assets/Apr')\n",
    "Aug =ee.Image('projects/ee-cgoodrich/assets/Aug')\n",
    "Dec =ee.Image('projects/ee-cgoodrich/assets/Dec')\n",
    "Feb =ee.Image('projects/ee-cgoodrich/assets/Feb')\n",
    "Jan =ee.Image('projects/ee-cgoodrich/assets/Jan')\n",
    "Jul =ee.Image('projects/ee-cgoodrich/assets/Jul')\n",
    "Jun =ee.Image('projects/ee-cgoodrich/assets/Jun')\n",
    "Mar =ee.Image('projects/ee-cgoodrich/assets/Mar')\n",
    "May =ee.Image('projects/ee-cgoodrich/assets/May')\n",
    "Nov =ee.Image('projects/ee-cgoodrich/assets/Nov')\n",
    "Oct =ee.Image('projects/ee-cgoodrich/assets/Oct')\n",
    "Spt =ee.Image('projects/ee-cgoodrich/assets/Spt')\n",
    "\n",
    "collectionFromImages = ee.ImageCollection.fromImages([Apr,Aug,Dec,Feb,Jan,Jul,Jun,Mar,May,Nov,Oct,Spt])\n",
    "\n",
    "# Sort the image collection by date\n",
    "collection_sm = collectionFromImages.sort('system:time_start')\n",
    "\n",
    "# Define the visualization parameters\n",
    "vis_params = {\n",
    "  'min': 0.0,\n",
    "  'max': 0.5,\n",
    "  'palette': [\n",
    "    'FFFFFF', 'CE7E45', 'DF923D', 'F1B555', 'FCD163', '99B718', '74A901',\n",
    "    '66A000', '529400', '3E8601', '207401', '056201', '004C00', '023B01',\n",
    "    '012E01', '011D01', '011301'\n",
    "  ],\n",
    "}\n",
    "\n",
    "# Create a map\n",
    "Map = geemap.Map()\n",
    "\n",
    "# Loop through the image collection and add each image as a layer to the map\n",
    "for i in range(collection_sm.size().getInfo()):\n",
    "    image = ee.Image(collection_sm.toList(collection_sm.size()).get(i))\n",
    "    name = image.date().format('YYYY-MM-dd').getInfo()\n",
    "    Map.addLayer(image, vis_params, name)\n",
    "\n",
    "# Display the map\n",
    "Map.centerObject(collection_sm)\n",
    "Map.addLayerControl()\n",
    "Map\n"
   ]
  }
 ],
 "metadata": {
  "kernelspec": {
   "display_name": "Python 3 (ipykernel)",
   "language": "python",
   "name": "python3"
  },
  "language_info": {
   "codemirror_mode": {
    "name": "ipython",
    "version": 3
   },
   "file_extension": ".py",
   "mimetype": "text/x-python",
   "name": "python",
   "nbconvert_exporter": "python",
   "pygments_lexer": "ipython3",
   "version": "3.9.7"
  }
 },
 "nbformat": 4,
 "nbformat_minor": 5
}
